{
 "cells": [
  {
   "cell_type": "markdown",
   "id": "bc69a220",
   "metadata": {},
   "source": [
    "# How to Use Tensorboard with PyTorch"
   ]
  },
  {
   "cell_type": "markdown",
   "id": "4c7ed2d9",
   "metadata": {},
   "source": [
    "Displaying images and other metrics of mnist dataset on tensorboard"
   ]
  },
  {
   "cell_type": "code",
   "execution_count": 14,
   "id": "6bbeed83",
   "metadata": {},
   "outputs": [],
   "source": [
    "# import libraries\n",
    "import torch\n",
    "import torch.nn as nn\n",
    "import torch.nn.functional as F\n",
    "import torch.optim as optim\n",
    "import torchvision\n",
    "\n",
    "import pandas as pd\n",
    "import numpy as np\n",
    "\n",
    "\n",
    "import torchvision.datasets as dsets\n",
    "import torchvision.transforms as transforms\n",
    "import matplotlib.pyplot as plt\n",
    "\n",
    "from torch.autograd import Variable\n",
    "\n",
    "from torch.utils.tensorboard import SummaryWriter\n",
    "writer = SummaryWriter('runs/mnist_tboard')\n",
    "\n",
    "import warnings\n",
    "warnings.filterwarnings('ignore')"
   ]
  },
  {
   "cell_type": "code",
   "execution_count": 4,
   "id": "44626206",
   "metadata": {},
   "outputs": [],
   "source": [
    "# train and test dataset\n",
    "train_data = dsets.MNIST(root='mnist_data/', train=True,transform = transforms.ToTensor(), download=True)\n",
    "test_data = dsets.MNIST(root='mnist_data/', train=False, transform = transforms.ToTensor(),download=True)"
   ]
  },
  {
   "cell_type": "code",
   "execution_count": 59,
   "id": "baa31257",
   "metadata": {},
   "outputs": [],
   "source": [
    "# train and test dataloader\n",
    "batch_size = 1\n",
    "train_loader = torch.utils.data.DataLoader(dataset=train_data,\\\n",
    "                                          batch_size=batch_size)\n",
    "\n",
    "test_loader = torch.utils.data.DataLoader(dataset=test_data,\\\n",
    "                                          batch_size=batch_size)"
   ]
  },
  {
   "cell_type": "code",
   "execution_count": 60,
   "id": "4e2f8e71",
   "metadata": {},
   "outputs": [
    {
     "name": "stdout",
     "output_type": "stream",
     "text": [
      "torch.Size([60000, 28, 28])\n",
      "torch.Size([60000])\n"
     ]
    }
   ],
   "source": [
    "# size of the data\n",
    "print(train_data.train_data.size())\n",
    "print(train_data.train_labels.size())"
   ]
  },
  {
   "cell_type": "code",
   "execution_count": 61,
   "id": "173539fa",
   "metadata": {},
   "outputs": [
    {
     "data": {
      "image/png": "[encoded data removed]",
      "text/plain": [
       "<Figure size 432x288 with 1 Axes>"
      ]
     },
     "metadata": {
      "needs_background": "light"
     },
     "output_type": "display_data"
    }
   ],
   "source": [
    "# plot one example\n",
    "plt.imshow(train_data.train_data[0].numpy(), cmap='gray')\n",
    "plt.title(f'{train_data.train_labels[0]}');"
   ]
  },
  {
   "cell_type": "code",
   "execution_count": 62,
   "id": "0b7e5785",
   "metadata": {},
   "outputs": [],
   "source": [
    "# sample image on tensorboard\n",
    "sample = iter(train_loader)\n",
    "sample_data, _ = examples.next()\n",
    "img_grid = torchvision.utils.make_grid(sample_data)\n",
    "writer.add_image('sample_mnist_images', img_grid)"
   ]
  },
  {
   "cell_type": "code",
   "execution_count": 63,
   "id": "b8343a87",
   "metadata": {},
   "outputs": [],
   "source": [
    "# Fully connected ueral network\n",
    "class MnistNet(nn.Module):\n",
    "    def __init__(self):\n",
    "        super(MnistNet, self).__init__()\n",
    "        self.linear1 = nn.Linear(28*28, 64)\n",
    "        self.linear2 = nn.Linear(64, 10)\n",
    "        \n",
    "    def forward(self, x):\n",
    "        linear1 = F.relu(self.linear1(x))\n",
    "        out = self.linear2(linear1)\n",
    "        return out"
   ]
  },
  {
   "cell_type": "code",
   "execution_count": 64,
   "id": "8e2400d2",
   "metadata": {},
   "outputs": [
    {
     "data": {
      "text/plain": [
       "MnistNet(\n",
       "  (linear1): Linear(in_features=784, out_features=64, bias=True)\n",
       "  (linear2): Linear(in_features=64, out_features=10, bias=True)\n",
       ")"
      ]
     },
     "execution_count": 64,
     "metadata": {},
     "output_type": "execute_result"
    }
   ],
   "source": [
    "# initialize the mode\n",
    "model = MnistNet()\n",
    "device = torch.device(\"cuda\" if torch.cuda.is_available() else \"cpu\") \n",
    "model.to(device) # change device"
   ]
  },
  {
   "cell_type": "code",
   "execution_count": 65,
   "id": "36a68f69",
   "metadata": {},
   "outputs": [],
   "source": [
    "# define the loss function\n",
    "loss_function = nn.CrossEntropyLoss()"
   ]
  },
  {
   "cell_type": "code",
   "execution_count": 66,
   "id": "19c871bf",
   "metadata": {},
   "outputs": [],
   "source": [
    "# define the optimization\n",
    "optimizer = optim.Adam(model.parameters(), lr=0.01)"
   ]
  },
  {
   "cell_type": "code",
   "execution_count": 74,
   "id": "b3584610",
   "metadata": {},
   "outputs": [
    {
     "name": "stdout",
     "output_type": "stream",
     "text": [
      "Epoch [1/1], Step [10000/60000], Loss: 0.0000\n",
      "Epoch [1/1], Step [20000/60000], Loss: 0.0000\n",
      "Epoch [1/1], Step [30000/60000], Loss: 0.0001\n",
      "Epoch [1/1], Step [40000/60000], Loss: 2.0882\n",
      "Epoch [1/1], Step [50000/60000], Loss: 1.3809\n",
      "Epoch [1/1], Step [60000/60000], Loss: 0.0000\n",
      "Finished Training\n"
     ]
    }
   ],
   "source": [
    "epoch = 1\n",
    "# training and testing\n",
    "for epch in range(epoch):  # loop over the dataset multiple times\n",
    "\n",
    "    running_loss = 0.0\n",
    "    for step,  (x, y) in enumerate(train_loader):\n",
    "        inputs, labels = x.reshape(-1, 28*28).to(device), y.to(device) # reshape\n",
    "        outputs = model(inputs)\n",
    "\n",
    "        # zero the parameter gradients\n",
    "        optimizer.zero_grad()\n",
    "        loss = loss_function(outputs, labels)\n",
    "        \n",
    "        loss.backward()\n",
    "        optimizer.step()\n",
    "        \n",
    "        val_pred = torch.max(outputs.data, 1)\n",
    "        if val_pred[1] != labels:\n",
    "            # write not correct image\n",
    "            imgs = torchvision.utils.make_grid(x)\n",
    "            writer.add_image('MnistImages', imgs)\n",
    "        running_loss += loss.item()\n",
    "        if (step+1) % 10000 == 0:    # print every 10000 mini-batches\n",
    "            print (f'Epoch [{epch+1}/{epoch}], Step [{step+1}/{len(train_loader)}], Loss: {loss.item():.3f}')\n",
    "            running_loss = 0.0\n",
    "\n",
    "print('Finished Training')"
   ]
  },
  {
   "cell_type": "code",
   "execution_count": 75,
   "id": "5d1fae56",
   "metadata": {},
   "outputs": [
    {
     "name": "stdout",
     "output_type": "stream",
     "text": [
      "2022-02-17 05:18:05.071669: I tensorflow/stream_executor/platform/default/dso_loader.cc:53] Successfully opened dynamic library libcudart.so.11.0\n",
      "\n",
      "NOTE: Using experimental fast data loading logic. To disable, pass\n",
      "    \"--load_fast=false\" and report issues on GitHub. More details:\n",
      "    https://github.com/tensorflow/tensorboard/issues/4784\n",
      "\n",
      "Serving TensorBoard on localhost; to expose to the network, use a proxy or pass --bind_all\n",
      "TensorBoard 2.8.0 at http://localhost:6006/ (Press CTRL+C to quit)\n",
      "^C\n"
     ]
    }
   ],
   "source": [
    "!tensorboard --logdir='runs/mnist_tboard/' #see the tensorboard"
   ]
  },
  {
   "cell_type": "code",
   "execution_count": null,
   "id": "d8cd9cc8",
   "metadata": {},
   "outputs": [],
   "source": []
  }
 ],
 "metadata": {
  "kernelspec": {
   "display_name": "Python 3 (ipykernel)",
   "language": "python",
   "name": "python3"
  },
  "language_info": {
   "codemirror_mode": {
    "name": "ipython",
    "version": 3
   },
   "file_extension": ".py",
   "mimetype": "text/x-python",
   "name": "python",
   "nbconvert_exporter": "python",
   "pygments_lexer": "ipython3",
   "version": "3.8.5"
  }
 },
 "nbformat": 4,
 "nbformat_minor": 5
}
