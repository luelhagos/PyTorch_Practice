{
 "cells": [
  {
   "cell_type": "markdown",
   "id": "bc69a220",
   "metadata": {},
   "source": [
    "# How to Use Tensorboard with PyTorch"
   ]
  },
  {
   "cell_type": "code",
   "execution_count": 1,
   "id": "6bbeed83",
   "metadata": {},
   "outputs": [
    {
     "name": "stderr",
     "output_type": "stream",
     "text": [
      "2022-02-18 23:18:01.733157: I tensorflow/stream_executor/platform/default/dso_loader.cc:53] Successfully opened dynamic library libcudart.so.11.0\n"
     ]
    }
   ],
   "source": [
    "# import libraries\n",
    "import torch\n",
    "import torch.nn as nn\n",
    "import torchvision\n",
    "import torch.nn.functional as F\n",
    "import torch.optim as optim\n",
    "\n",
    "import pandas as pd\n",
    "import numpy as np\n",
    "import seaborn as sns\n",
    "\n",
    "from sklearn.metrics import confusion_matrix\n",
    "import torchvision.datasets as dsets\n",
    "import torchvision.transforms as transforms\n",
    "import matplotlib.pyplot as plt\n",
    "\n",
    "from torch.utils.tensorboard import SummaryWriter\n",
    "#writer = SummaryWriter()\n",
    "writer = SummaryWriter('runs/mnist_tboard')\n",
    "\n",
    "import warnings\n",
    "warnings.filterwarnings('ignore')"
   ]
  },
  {
   "cell_type": "code",
   "execution_count": 2,
   "id": "44626206",
   "metadata": {},
   "outputs": [],
   "source": [
    "train_data = dsets.MNIST(root='mnist_data/', train=True,transform = transforms.ToTensor(), download=True)\n",
    "test_data = dsets.MNIST(root='mnist_data/', train=False, transform = transforms.ToTensor(),download=True)"
   ]
  },
  {
   "cell_type": "code",
   "execution_count": 3,
   "id": "baa31257",
   "metadata": {},
   "outputs": [],
   "source": [
    "batch_size = 16\n",
    "train_loader = torch.utils.data.DataLoader(dataset=train_data,\\\n",
    "                                          batch_size=batch_size, shuffle=True)\n",
    "\n",
    "test_loader = torch.utils.data.DataLoader(dataset=test_data,\\\n",
    "                                          batch_size=batch_size)"
   ]
  },
  {
   "cell_type": "code",
   "execution_count": 4,
   "id": "4e2f8e71",
   "metadata": {},
   "outputs": [
    {
     "name": "stdout",
     "output_type": "stream",
     "text": [
      "torch.Size([60000, 28, 28])\n",
      "torch.Size([60000])\n"
     ]
    }
   ],
   "source": [
    "# size of the data\n",
    "print(train_data.train_data.size())\n",
    "print(train_data.train_labels.size())"
   ]
  },
  {
   "cell_type": "code",
   "execution_count": 5,
   "id": "60b496d0",
   "metadata": {},
   "outputs": [],
   "source": [
    "digit_numpy = {0: torch.unsqueeze(train_data.train_data[1], dim=0),\\\n",
    "               1:torch.unsqueeze(train_data.train_data[24], dim=0),\\\n",
    "               2:torch.unsqueeze(train_data.train_data[5], dim=0),\\\n",
    "               3:torch.unsqueeze(train_data.train_data[7], dim=0),\\\n",
    "               4:torch.unsqueeze(train_data.train_data[2], dim=0),\\\n",
    "               5:torch.unsqueeze(train_data.train_data[0], dim=0),\\\n",
    "               6:torch.unsqueeze(train_data.train_data[13], dim=0),\\\n",
    "               7:torch.unsqueeze(train_data.train_data[15], dim=0),\\\n",
    "               8:torch.unsqueeze(train_data.train_data[17], dim=0),\\\n",
    "               9:torch.unsqueeze(train_data.train_data[4], dim=0)}"
   ]
  },
  {
   "cell_type": "code",
   "execution_count": 6,
   "id": "173539fa",
   "metadata": {},
   "outputs": [
    {
     "data": {
      "image/png": "[encoded data removed]",
      "text/plain": [
       "<Figure size 432x288 with 1 Axes>"
      ]
     },
     "metadata": {
      "needs_background": "light"
     },
     "output_type": "display_data"
    }
   ],
   "source": [
    "# plot one example\n",
    "plt.imshow(train_data.train_data[0].numpy(), cmap='gray')\n",
    "plt.title(f'{train_data.train_labels[0]}');"
   ]
  },
  {
   "cell_type": "code",
   "execution_count": 7,
   "id": "0b7e5785",
   "metadata": {},
   "outputs": [],
   "source": [
    "# image on tensorboard\n",
    "sample = iter(train_loader)\n",
    "sample_data, sample_targets = sample.next()\n",
    "img_grid = torchvision.utils.make_grid(sample_data)\n",
    "writer.add_image('sample_images', img_grid)"
   ]
  },
  {
   "cell_type": "code",
   "execution_count": 8,
   "id": "b8343a87",
   "metadata": {},
   "outputs": [],
   "source": [
    "class MnistNet(nn.Module):\n",
    "    def __init__(self):\n",
    "        super(MnistNet, self).__init__()\n",
    "        self.linear1 = nn.Linear(28*28, 64)\n",
    "        self.linear2 = nn.Linear(64, 10)\n",
    "        \n",
    "    def forward(self, x):\n",
    "        linear1 = F.relu(self.linear1(x))\n",
    "        out = self.linear2(linear1)\n",
    "        return out"
   ]
  },
  {
   "cell_type": "code",
   "execution_count": 9,
   "id": "8e2400d2",
   "metadata": {},
   "outputs": [
    {
     "data": {
      "text/plain": [
       "MnistNet(\n",
       "  (linear1): Linear(in_features=784, out_features=64, bias=True)\n",
       "  (linear2): Linear(in_features=64, out_features=10, bias=True)\n",
       ")"
      ]
     },
     "execution_count": 9,
     "metadata": {},
     "output_type": "execute_result"
    }
   ],
   "source": [
    "model = MnistNet()\n",
    "#device = torch.device(\"cuda\" if torch.cuda.is_available() else \"cpu\")\n",
    "model#.to(device)"
   ]
  },
  {
   "cell_type": "code",
   "execution_count": 10,
   "id": "36a68f69",
   "metadata": {},
   "outputs": [],
   "source": [
    "# define the loss function\n",
    "loss_function = nn.CrossEntropyLoss()"
   ]
  },
  {
   "cell_type": "code",
   "execution_count": 11,
   "id": "19c871bf",
   "metadata": {},
   "outputs": [],
   "source": [
    "# define the optimization\n",
    "optimizer = optim.Adam(model.parameters(), lr=0.01)"
   ]
  },
  {
   "cell_type": "code",
   "execution_count": 20,
   "id": "b3584610",
   "metadata": {},
   "outputs": [
    {
     "name": "stdout",
     "output_type": "stream",
     "text": [
      "Epoch [1/1], Step [1024/3750], Loss: 0.1547\n",
      "Epoch [1/1], Step [2048/3750], Loss: 0.0051\n",
      "Epoch [1/1], Step [3072/3750], Loss: 0.0031\n",
      "Finished Training\n"
     ]
    }
   ],
   "source": [
    "# train the model\n",
    "epoch = 1\n",
    "# training and testing\n",
    "for epch in range(epoch):  # loop over the dataset multiple times\n",
    "    running_loss = 0.0 # running loss\n",
    "    for step,  (x, y) in enumerate(train_loader):\n",
    "        inputs, labels = x.reshape(-1, 28*28), y#.to(device), y.to(device) # reshape\n",
    "        outputs = model(inputs) \n",
    "        optimizer.zero_grad()\n",
    "        loss = loss_function(outputs, labels)\n",
    "        \n",
    "        loss.backward() # backpropagation\n",
    "        optimizer.step()\n",
    "        \n",
    "        val_pred = torch.max(outputs.data, 1)\n",
    "        inx = torch.where(labels != val_pred[1], 10, labels)\n",
    "        fls_inx = [i for i in range(len(inx)) if inx[i]==10]\n",
    "        if fls_inx != []:\n",
    "            tr_imgs = torchvision.utils.make_grid([x[i] for i in fls_inx])\n",
    "            fls_imgs = torchvision.utils.make_grid([digit_numpy[val_pred[1][i].item()] for i in fls_inx])\n",
    "            writer.add_image('False Predicted', fls_imgs, global_step=step)\n",
    "            writer.add_image('True Labels',  tr_imgs, global_step=step)\n",
    "        if (step+1) % 1024 == 0:    # print every 1024 mini-batches\n",
    "            print (f'Epoch [{epch+1}/{epoch}], Step [{step+1}/{len(train_loader)}], Loss: {loss.item():.4f}')\n",
    "            writer.add_scalar('Training loss', loss, global_step=step)\n",
    "            running_loss = 0.0\n",
    "print('Finished Training')"
   ]
  },
  {
   "cell_type": "code",
   "execution_count": 21,
   "id": "bffe3620",
   "metadata": {},
   "outputs": [],
   "source": [
    "# build a confusion matrix\n",
    "\n",
    "y_pred = []\n",
    "y_true = []\n",
    "# constant for classes\n",
    "classes = ('0', '1', '2', '3', '4',\n",
    "        '5', '6', '7', '8', '9')\n",
    "plt.figure(figsize = (16, 10))\n",
    "\n",
    "i = 0\n",
    "# iterate over test data\n",
    "for inputs, labels in test_loader:\n",
    "    inputs = inputs.reshape(-1, 28*28)\n",
    "    output = model(inputs)\n",
    "    val_pred = torch.max(outputs.data, 1)\n",
    "    y_pred.extend(val_pred[1].numpy()) \n",
    "\n",
    "    labels = labels.numpy()\n",
    "    y_true.extend(labels) \n",
    "\n",
    "# Build confusion matrix\n",
    "cf_matrix = confusion_matrix(y_true, y_pred)\n",
    "df_cm = pd.DataFrame(cf_matrix, index = [i for i in classes],\n",
    "                     columns = [i for i in classes])\n",
    "writer.add_figure('Confusion Matrix', sns.heatmap(df_cm, annot=True).get_figure())"
   ]
  },
  {
   "cell_type": "code",
   "execution_count": 22,
   "id": "1e0e252d",
   "metadata": {},
   "outputs": [
    {
     "data": {
      "text/html": [
       "<div>\n",
       "<style scoped>\n",
       "    .dataframe tbody tr th:only-of-type {\n",
       "        vertical-align: middle;\n",
       "    }\n",
       "\n",
       "    .dataframe tbody tr th {\n",
       "        vertical-align: top;\n",
       "    }\n",
       "\n",
       "    .dataframe thead th {\n",
       "        text-align: right;\n",
       "    }\n",
       "</style>\n",
       "<table border=\"1\" class=\"dataframe\">\n",
       "  <thead>\n",
       "    <tr style=\"text-align: right;\">\n",
       "      <th></th>\n",
       "      <th>0</th>\n",
       "      <th>1</th>\n",
       "      <th>2</th>\n",
       "      <th>3</th>\n",
       "      <th>4</th>\n",
       "      <th>5</th>\n",
       "      <th>6</th>\n",
       "      <th>7</th>\n",
       "      <th>8</th>\n",
       "      <th>9</th>\n",
       "    </tr>\n",
       "  </thead>\n",
       "  <tbody>\n",
       "    <tr>\n",
       "      <th>0</th>\n",
       "      <td>52</td>\n",
       "      <td>122</td>\n",
       "      <td>65</td>\n",
       "      <td>131</td>\n",
       "      <td>113</td>\n",
       "      <td>164</td>\n",
       "      <td>73</td>\n",
       "      <td>54</td>\n",
       "      <td>77</td>\n",
       "      <td>129</td>\n",
       "    </tr>\n",
       "    <tr>\n",
       "      <th>1</th>\n",
       "      <td>87</td>\n",
       "      <td>135</td>\n",
       "      <td>74</td>\n",
       "      <td>125</td>\n",
       "      <td>145</td>\n",
       "      <td>220</td>\n",
       "      <td>71</td>\n",
       "      <td>70</td>\n",
       "      <td>85</td>\n",
       "      <td>123</td>\n",
       "    </tr>\n",
       "    <tr>\n",
       "      <th>2</th>\n",
       "      <td>57</td>\n",
       "      <td>137</td>\n",
       "      <td>55</td>\n",
       "      <td>142</td>\n",
       "      <td>128</td>\n",
       "      <td>192</td>\n",
       "      <td>60</td>\n",
       "      <td>70</td>\n",
       "      <td>71</td>\n",
       "      <td>120</td>\n",
       "    </tr>\n",
       "    <tr>\n",
       "      <th>3</th>\n",
       "      <td>62</td>\n",
       "      <td>124</td>\n",
       "      <td>74</td>\n",
       "      <td>140</td>\n",
       "      <td>128</td>\n",
       "      <td>178</td>\n",
       "      <td>53</td>\n",
       "      <td>71</td>\n",
       "      <td>57</td>\n",
       "      <td>123</td>\n",
       "    </tr>\n",
       "    <tr>\n",
       "      <th>4</th>\n",
       "      <td>67</td>\n",
       "      <td>127</td>\n",
       "      <td>44</td>\n",
       "      <td>126</td>\n",
       "      <td>131</td>\n",
       "      <td>174</td>\n",
       "      <td>61</td>\n",
       "      <td>74</td>\n",
       "      <td>55</td>\n",
       "      <td>123</td>\n",
       "    </tr>\n",
       "    <tr>\n",
       "      <th>5</th>\n",
       "      <td>57</td>\n",
       "      <td>108</td>\n",
       "      <td>68</td>\n",
       "      <td>107</td>\n",
       "      <td>95</td>\n",
       "      <td>186</td>\n",
       "      <td>63</td>\n",
       "      <td>56</td>\n",
       "      <td>39</td>\n",
       "      <td>113</td>\n",
       "    </tr>\n",
       "    <tr>\n",
       "      <th>6</th>\n",
       "      <td>58</td>\n",
       "      <td>119</td>\n",
       "      <td>72</td>\n",
       "      <td>122</td>\n",
       "      <td>115</td>\n",
       "      <td>179</td>\n",
       "      <td>69</td>\n",
       "      <td>50</td>\n",
       "      <td>55</td>\n",
       "      <td>119</td>\n",
       "    </tr>\n",
       "    <tr>\n",
       "      <th>7</th>\n",
       "      <td>58</td>\n",
       "      <td>121</td>\n",
       "      <td>65</td>\n",
       "      <td>130</td>\n",
       "      <td>132</td>\n",
       "      <td>208</td>\n",
       "      <td>49</td>\n",
       "      <td>71</td>\n",
       "      <td>54</td>\n",
       "      <td>140</td>\n",
       "    </tr>\n",
       "    <tr>\n",
       "      <th>8</th>\n",
       "      <td>61</td>\n",
       "      <td>137</td>\n",
       "      <td>56</td>\n",
       "      <td>102</td>\n",
       "      <td>111</td>\n",
       "      <td>184</td>\n",
       "      <td>68</td>\n",
       "      <td>65</td>\n",
       "      <td>68</td>\n",
       "      <td>122</td>\n",
       "    </tr>\n",
       "    <tr>\n",
       "      <th>9</th>\n",
       "      <td>66</td>\n",
       "      <td>120</td>\n",
       "      <td>52</td>\n",
       "      <td>125</td>\n",
       "      <td>152</td>\n",
       "      <td>190</td>\n",
       "      <td>58</td>\n",
       "      <td>44</td>\n",
       "      <td>64</td>\n",
       "      <td>138</td>\n",
       "    </tr>\n",
       "  </tbody>\n",
       "</table>\n",
       "</div>"
      ],
      "text/plain": [
       "    0    1   2    3    4    5   6   7   8    9\n",
       "0  52  122  65  131  113  164  73  54  77  129\n",
       "1  87  135  74  125  145  220  71  70  85  123\n",
       "2  57  137  55  142  128  192  60  70  71  120\n",
       "3  62  124  74  140  128  178  53  71  57  123\n",
       "4  67  127  44  126  131  174  61  74  55  123\n",
       "5  57  108  68  107   95  186  63  56  39  113\n",
       "6  58  119  72  122  115  179  69  50  55  119\n",
       "7  58  121  65  130  132  208  49  71  54  140\n",
       "8  61  137  56  102  111  184  68  65  68  122\n",
       "9  66  120  52  125  152  190  58  44  64  138"
      ]
     },
     "execution_count": 22,
     "metadata": {},
     "output_type": "execute_result"
    }
   ],
   "source": [
    "# the confusion matrix\n",
    "df_cm"
   ]
  },
  {
   "cell_type": "code",
   "execution_count": 23,
   "id": "2de9cfaf",
   "metadata": {},
   "outputs": [],
   "source": [
    "total = sum([df_cm[str(i)].sum() for i in range(10)])\n",
    "false_pos = sum([(df_cm[str(i)].sum()-df_cm[str(i)][i]) for i in range(10)])\n",
    "true_pos = sum(df_cm[str(i)][str(i)] for i in range(10))\n",
    "false_neg = sum([(df_cm.iloc[i].sum()- df_cm.iloc[i][i]) for i in range(10)])"
   ]
  },
  {
   "cell_type": "code",
   "execution_count": 24,
   "id": "4b79bb6c",
   "metadata": {},
   "outputs": [],
   "source": [
    "# Accuracy\n",
    "accuracy = true_pos/total\n",
    "\n",
    "# Precision\n",
    "precision = true_pos/(true_pos+false_pos)\n",
    "\n",
    "# Recall\n",
    "recall = true_pos/(true_pos+false_neg)\n",
    "\n",
    "# F1 Score\n",
    "f1_score = 2*((precision*recall)/(precision+recall))"
   ]
  },
  {
   "cell_type": "code",
   "execution_count": 25,
   "id": "599a82b0",
   "metadata": {},
   "outputs": [],
   "source": [
    "# create a dataframe for the metrics measurment\n",
    "metric = {'Accuracy':accuracy, 'Precision':precision, 'Recall':recall, 'F1 Score':f1_score}\n",
    "metric_df = pd.DataFrame(metric, index = [0], columns=metric.keys())"
   ]
  },
  {
   "cell_type": "code",
   "execution_count": 26,
   "id": "78c46b9a",
   "metadata": {},
   "outputs": [],
   "source": [
    "# write it as a text to the tensorboard\n",
    "writer.add_text(\"Mertics dataframe\", \\\n",
    "                f\"Accuracy: {accuracy}, Precision: {precision}, Recall: {recall}, F1 Score: {f1_score}\")"
   ]
  },
  {
   "cell_type": "code",
   "execution_count": 27,
   "id": "5d1fae56",
   "metadata": {},
   "outputs": [
    {
     "name": "stdout",
     "output_type": "stream",
     "text": [
      "2022-02-18 23:20:38.134572: I tensorflow/stream_executor/platform/default/dso_loader.cc:53] Successfully opened dynamic library libcudart.so.11.0\n",
      "\n",
      "NOTE: Using experimental fast data loading logic. To disable, pass\n",
      "    \"--load_fast=false\" and report issues on GitHub. More details:\n",
      "    https://github.com/tensorflow/tensorboard/issues/4784\n",
      "\n",
      "Serving TensorBoard on localhost; to expose to the network, use a proxy or pass --bind_all\n",
      "TensorBoard 2.8.0 at http://localhost:6006/ (Press CTRL+C to quit)\n",
      "^C\n"
     ]
    }
   ],
   "source": [
    "# show the tensorboard in localhost\n",
    "!tensorboard --logdir='runs/mnist_tboard/'"
   ]
  },
  {
   "cell_type": "code",
   "execution_count": null,
   "id": "cf9ce3ad",
   "metadata": {},
   "outputs": [],
   "source": []
  }
 ],
 "metadata": {
  "kernelspec": {
   "display_name": "Python 3 (ipykernel)",
   "language": "python",
   "name": "python3"
  },
  "language_info": {
   "codemirror_mode": {
    "name": "ipython",
    "version": 3
   },
   "file_extension": ".py",
   "mimetype": "text/x-python",
   "name": "python",
   "nbconvert_exporter": "python",
   "pygments_lexer": "ipython3",
   "version": "3.8.5"
  }
 },
 "nbformat": 4,
 "nbformat_minor": 5
}
